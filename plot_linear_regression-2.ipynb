{
 "cells": [
  {
   "cell_type": "code",
   "execution_count": 2,
   "metadata": {},
   "outputs": [],
   "source": [
    "%matplotlib inline"
   ]
  },
  {
   "cell_type": "code",
   "execution_count": 4,
   "metadata": {},
   "outputs": [],
   "source": [
    "x = 30 * np.random.random((20, 1))\n",
    "y = 0.5 * x + 1.0 + np.random.normal(size=x.shape)"
   ]
  },
  {
   "cell_type": "code",
   "execution_count": 10,
   "metadata": {},
   "outputs": [
    {
     "data": {
      "text/plain": [
       "array([[23.36950787],\n",
       "       [15.19785503],\n",
       "       [ 8.65082647],\n",
       "       [26.37843499],\n",
       "       [19.8934095 ],\n",
       "       [11.36827392],\n",
       "       [ 5.86904723],\n",
       "       [12.28199377],\n",
       "       [ 3.87885735],\n",
       "       [24.71112448],\n",
       "       [ 2.90982692],\n",
       "       [23.45031528],\n",
       "       [24.66730468],\n",
       "       [ 8.41870918],\n",
       "       [21.64600599],\n",
       "       [19.87348737],\n",
       "       [13.54981231],\n",
       "       [18.38152617],\n",
       "       [ 6.21542025],\n",
       "       [12.43818585]])"
      ]
     },
     "execution_count": 10,
     "metadata": {},
     "output_type": "execute_result"
    }
   ],
   "source": [
    "x"
   ]
  },
  {
   "cell_type": "code",
   "execution_count": 8,
   "metadata": {},
   "outputs": [
    {
     "data": {
      "text/plain": [
       "array([[14.1334504 ],\n",
       "       [ 8.74079099],\n",
       "       [ 4.88512542],\n",
       "       [14.94993384],\n",
       "       [10.47156173],\n",
       "       [ 5.71610245],\n",
       "       [ 2.42036168],\n",
       "       [ 7.96098525],\n",
       "       [ 5.28425678],\n",
       "       [13.38126383],\n",
       "       [ 2.33465056],\n",
       "       [12.85767207],\n",
       "       [13.6412848 ],\n",
       "       [ 2.91206023],\n",
       "       [12.34824513],\n",
       "       [ 9.754116  ],\n",
       "       [ 7.72501303],\n",
       "       [10.05930622],\n",
       "       [ 4.61049419],\n",
       "       [ 6.34611003]])"
      ]
     },
     "execution_count": 8,
     "metadata": {},
     "output_type": "execute_result"
    }
   ],
   "source": [
    "y"
   ]
  },
  {
   "cell_type": "code",
   "execution_count": null,
   "metadata": {},
   "outputs": [],
   "source": []
  },
  {
   "cell_type": "markdown",
   "metadata": {},
   "source": [
    "\n",
    "A simple linear regression\n",
    "===========================\n",
    "\n",
    "\n"
   ]
  },
  {
   "cell_type": "code",
   "execution_count": 3,
   "metadata": {},
   "outputs": [
    {
     "data": {
      "image/png": "[encoded data removed]",
      "text/plain": [
       "<Figure size 288x216 with 1 Axes>"
      ]
     },
     "metadata": {},
     "output_type": "display_data"
    }
   ],
   "source": [
    "import numpy as np\n",
    "import matplotlib.pyplot as plt\n",
    "from sklearn.linear_model import LinearRegression\n",
    "\n",
    "# x from 0 to 30\n",
    "x = 30 * np.random.random((20, 1))\n",
    "\n",
    "# y = a*x + b with noise\n",
    "y = 0.5 * x + 1.0 + np.random.normal(size=x.shape)\n",
    "\n",
    "# create a linear regression model\n",
    "model = LinearRegression()\n",
    "model.fit(x, y)\n",
    "\n",
    "# predict y from the data\n",
    "x_new = np.linspace(0, 30, 100)\n",
    "y_new = model.predict(x_new[:, np.newaxis])\n",
    "\n",
    "# plot the results\n",
    "plt.figure(figsize=(4, 3))\n",
    "ax = plt.axes()\n",
    "ax.scatter(x, y)\n",
    "ax.plot(x_new, y_new)\n",
    "\n",
    "ax.set_xlabel('x')\n",
    "ax.set_ylabel('y')\n",
    "\n",
    "ax.axis('tight')\n",
    "\n",
    "\n",
    "plt.show()"
   ]
  },
  {
   "cell_type": "code",
   "execution_count": null,
   "metadata": {},
   "outputs": [],
   "source": []
  }
 ],
 "metadata": {
  "kernelspec": {
   "display_name": "Python 3",
   "language": "python",
   "name": "python3"
  },
  "language_info": {
   "codemirror_mode": {
    "name": "ipython",
    "version": 3
   },
   "file_extension": ".py",
   "mimetype": "text/x-python",
   "name": "python",
   "nbconvert_exporter": "python",
   "pygments_lexer": "ipython3",
   "version": "3.6.5"
  }
 },
 "nbformat": 4,
 "nbformat_minor": 1
}
